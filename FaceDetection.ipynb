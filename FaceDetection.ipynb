{
 "cells": [
  {
   "cell_type": "code",
   "execution_count": 117,
   "id": "a8366cb4-9e91-41be-b719-cb5bdef186be",
   "metadata": {},
   "outputs": [],
   "source": [
    "import pandas as pd\n",
    "import cv2\n",
    "#load the pre-trained cascade classifier for face detection\n",
    "face_cascade=cv2.CascadeClassifier(cv2.data.haarcascades + 'haarcascade_frontalface_default.xml')\n",
    "#Load the input image\n",
    "image=cv2.imread(\"Gambar Aktris.png\")\n",
    "#Convert image to grayscale\n",
    "gray_image=cv2.cvtColor(image,cv2.COLOR_BGR2HSV)\n"
   ]
  },
  {
   "cell_type": "code",
   "execution_count": 118,
   "id": "ee62e69c-72ca-4a7e-b5c9-7b460c37e002",
   "metadata": {},
   "outputs": [],
   "source": [
    "#Perform face detection\n",
    "faces=face_cascade.detectMultiScale(gray_image, scaleFactor=1.05,minNeighbors=4,minSize=(50,50))\n",
    "#Draw rectangles around the detected faces\n",
    "for (x,y,w,h) in faces:\n",
    "    y=max(0,y-int(h*0.6))\n",
    "    h=int(h*0.9)\n",
    "    w=int(w*1.6)\n",
    "    h=int(h*2.5)\n",
    "    x=max(0,x-int(w*0.3))\n",
    "    y=max(0,y-int(h*0.5))\n",
    "    x+=8\n",
    "    y+=8\n",
    "    cv2.rectangle(image,(x,y),(x+w,y+h),(0,255,0),3)"
   ]
  },
  {
   "cell_type": "code",
   "execution_count": null,
   "id": "a7cd136d-fdef-43e5-bf25-3a4f2ec4df38",
   "metadata": {},
   "outputs": [],
   "source": [
    "#display the output of the image\n",
    "cv2.imshow('Face Detection',image)\n",
    "cv2.waitKey(0)\n",
    "cv2.destroyAllWindows()"
   ]
  },
  {
   "cell_type": "code",
   "execution_count": null,
   "id": "d9419fd2-b83c-446d-a034-be6bc9945417",
   "metadata": {},
   "outputs": [],
   "source": []
  }
 ],
 "metadata": {
  "kernelspec": {
   "display_name": "Python 3 (ipykernel)",
   "language": "python",
   "name": "python3"
  },
  "language_info": {
   "codemirror_mode": {
    "name": "ipython",
    "version": 3
   },
   "file_extension": ".py",
   "mimetype": "text/x-python",
   "name": "python",
   "nbconvert_exporter": "python",
   "pygments_lexer": "ipython3",
   "version": "3.11.9"
  }
 },
 "nbformat": 4,
 "nbformat_minor": 5
}
